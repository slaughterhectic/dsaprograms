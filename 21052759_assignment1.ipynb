{
  "nbformat": 4,
  "nbformat_minor": 0,
  "metadata": {
    "colab": {
      "name": "21052759_assignment1.ipynb",
      "provenance": [],
      "collapsed_sections": []
    },
    "kernelspec": {
      "name": "python3",
      "display_name": "Python 3"
    },
    "language_info": {
      "name": "python"
    }
  },
  "cells": [
    {
      "cell_type": "markdown",
      "source": [
        "PROGRAM 1"
      ],
      "metadata": {
        "id": "cELwWOCa-szJ"
      }
    },
    {
      "cell_type": "code",
      "execution_count": null,
      "metadata": {
        "colab": {
          "base_uri": "https://localhost:8080/"
        },
        "id": "M4XQ0Ra6-oWM",
        "outputId": "5238f163-33bf-4cbf-812a-19e520d1062b"
      },
      "outputs": [
        {
          "output_type": "stream",
          "name": "stdout",
          "text": [
            "Writing prog1.c\n"
          ]
        }
      ],
      "source": [
        "%%writefile prog1.c\n",
        " #include <stdio.h>\n",
        " \n",
        " \n",
        "int main()\n",
        "{\n",
        "    int a[50],i,n,min,max;\n",
        "   \n",
        "    printf(\"Enter size of the array : \");\n",
        "    scanf(\"%d\",&n);\n",
        " \n",
        "    printf(\"Enter elements in array : \");\n",
        "    for(i=0; i<n; i++)\n",
        "    {\n",
        "        scanf(\"%d\",&a[i]);\n",
        "    }\n",
        " \n",
        "    min=max=a[0];\n",
        "    for(i=1; i<n; i++)\n",
        "    {\n",
        "         if(min>a[i])\n",
        "\t\t  min=a[i];   \n",
        "\t\t   if(max<a[i])\n",
        "\t\t    max=a[i];       \n",
        "    }\n",
        "     printf(\"minimum of array is : %d\",min);\n",
        "          printf(\"\\nmaximum of array is : %d\",max);\n",
        " \n",
        " \n",
        "    return 0;\n",
        "}"
      ]
    },
    {
      "cell_type": "code",
      "source": [
        "%%script bash\n",
        "gcc prog1.c -std=c99 -o prog1"
      ],
      "metadata": {
        "id": "0qegdxWNAb8k"
      },
      "execution_count": null,
      "outputs": []
    },
    {
      "cell_type": "code",
      "source": [
        "!./prog1"
      ],
      "metadata": {
        "colab": {
          "base_uri": "https://localhost:8080/"
        },
        "id": "TtK51L46AsW4",
        "outputId": "5adb303f-dadb-4e40-e932-1b99c324d211"
      },
      "execution_count": null,
      "outputs": [
        {
          "output_type": "stream",
          "name": "stdout",
          "text": [
            "Enter size of the array : 5\n",
            "Enter elements in array : 1 2 3 4 5\n",
            "minimum of array is : 1\n",
            "maximum of array is : 5"
          ]
        }
      ]
    },
    {
      "cell_type": "markdown",
      "source": [
        "PROGRAM 2"
      ],
      "metadata": {
        "id": "lRNUDXO4CrxU"
      }
    },
    {
      "cell_type": "code",
      "source": [
        "%%writefile prog2.c\n",
        "#include <stdio.h>\n",
        "\n",
        "int main(void) {\n",
        "    int x[10];\n",
        "    int i, n;\n",
        "    int first = x[0];\n",
        "    int second = x[1];\n",
        "\n",
        "    printf(\"Input the size of array :\");\n",
        "    scanf(\"%d\", &n);\n",
        "\n",
        "    printf(\"Input %d elements in the array :\\n\", n);\n",
        "    for (i = 0; i < n; i++) {\n",
        "        printf(\"x[%d]: \", i);\n",
        "        scanf(\"%d\", &x[i]);\n",
        "    }\n",
        "\n",
        "    for (i = 0; i < n; ++i) {\n",
        "        if (first < x[i]) {\n",
        "            second = first;\n",
        "            first = x[i];\n",
        "        } else\n",
        "        if (x[i] > second && x[i] != first) {\n",
        "            second = x[i];\n",
        "        }\n",
        "    }\n",
        "\n",
        "    if (second == first)\n",
        "        printf(\"There is no second largest element\\n\");\n",
        "    else\n",
        "        printf(\"\\nThe Second largest element in the array is: %d\", second);\n",
        "\n",
        "    return 0;\n",
        "}"
      ],
      "metadata": {
        "id": "FTLxuX1kCrF-",
        "colab": {
          "base_uri": "https://localhost:8080/"
        },
        "outputId": "4ab8c510-aee2-432e-c3db-bb5fca11f0f5"
      },
      "execution_count": null,
      "outputs": [
        {
          "output_type": "stream",
          "name": "stdout",
          "text": [
            "Overwriting prog2.c\n"
          ]
        }
      ]
    },
    {
      "cell_type": "code",
      "source": [
        "%%script bash\n",
        "gcc prog2.c -std=c99 -o prog2"
      ],
      "metadata": {
        "id": "s00EY0MbDla0"
      },
      "execution_count": null,
      "outputs": []
    },
    {
      "cell_type": "code",
      "source": [
        "!./prog2"
      ],
      "metadata": {
        "colab": {
          "base_uri": "https://localhost:8080/"
        },
        "id": "azFgDW7YEwla",
        "outputId": "963b51ab-a689-498a-ea49-69955e459390"
      },
      "execution_count": null,
      "outputs": [
        {
          "output_type": "stream",
          "name": "stdout",
          "text": [
            "Input the size of array :4\n",
            "Input 4 elements in the array :\n",
            "x[0]: 1\n",
            "x[1]: 2\n",
            "x[2]: 3\n",
            "x[3]: 4\n",
            "\n",
            "The Second largest element in the array is: 3"
          ]
        }
      ]
    },
    {
      "cell_type": "code",
      "source": [
        "%%writefile secondmin.c\n",
        "#include <stdio.h>\n",
        "#include <string.h>\n",
        " \n",
        "int main()\n",
        "{\n",
        "    int smallest, secondsmallest;\n",
        "    int array[100], size, i;\n",
        "    printf(\"\\n How many elements do you want to enter: \");\n",
        "    scanf(\"%d\", &size);\n",
        "    printf(\"\\nEnter %d elements: \", size);\n",
        "    for (i = 0 ; i < size; i++)\n",
        "        scanf(\"%d\", &array[i]);\n",
        "    if (array[0] < array[1]) {\n",
        "        smallest = array[0];\n",
        "        secondsmallest = array[1];\n",
        "    }\n",
        "    else {\n",
        "      smallest = array[1];\n",
        "      secondsmallest = array[0];\n",
        "    }\n",
        "    for (i = 2; i < size; i++) {\n",
        "        if (array[i] < smallest) {\n",
        "        secondsmallest = smallest;\n",
        "        smallest = array[i];\n",
        "        }\n",
        "        else if (array[i] < secondsmallest) {\n",
        "            secondsmallest = array[i];\n",
        "        }\n",
        "    }\n",
        "    printf(\" \\nSecond smallest element is %d\", secondsmallest);\n",
        "}\n"
      ],
      "metadata": {
        "colab": {
          "base_uri": "https://localhost:8080/"
        },
        "id": "Q3Ob1X7p768d",
        "outputId": "ad025bdd-d3a5-4000-aaa4-bac8d135b3d7"
      },
      "execution_count": null,
      "outputs": [
        {
          "output_type": "stream",
          "name": "stdout",
          "text": [
            "Overwriting secondmin.c\n"
          ]
        }
      ]
    },
    {
      "cell_type": "code",
      "source": [
        "%%script bash\n",
        "gcc secondmin.c -std=c99 -o smin"
      ],
      "metadata": {
        "id": "4Og8dSnF8Ica"
      },
      "execution_count": null,
      "outputs": []
    },
    {
      "cell_type": "code",
      "source": [
        "!./smin"
      ],
      "metadata": {
        "colab": {
          "base_uri": "https://localhost:8080/"
        },
        "id": "iKqKCD8z8PpH",
        "outputId": "3b642e80-5322-48f2-87b6-b97ae315ce76"
      },
      "execution_count": null,
      "outputs": [
        {
          "output_type": "stream",
          "name": "stdout",
          "text": [
            "\n",
            " How many elements do you want to enter: 5\n",
            "\n",
            "Enter 5 elements: 1 2 3 4 5\n",
            " \n",
            "Second smallest element is 2"
          ]
        }
      ]
    },
    {
      "cell_type": "markdown",
      "source": [
        "PROGRAM 5"
      ],
      "metadata": {
        "id": "9p3wFIZB1qiS"
      }
    },
    {
      "cell_type": "code",
      "source": [
        "%%writefile prog3.c\n",
        "\n",
        "#include<stdio.h>\n",
        "int main(){\n",
        "   int s[40],pos,i,size,value;\n",
        "   printf(\"enter no of elements in array\");\n",
        "   scanf(\"%d\",&size);\n",
        "   printf(\"enter %d elements are:\\n\",size);\n",
        "   for(i=0;i<size;i++)\n",
        "      scanf(\"%d\",&s[i]);\n",
        "   printf(\"enter the position where you want to insert the element:\");\n",
        "   scanf(\"%d\",&pos);\n",
        "   printf(\"enter the value into that poition:\");\n",
        "   scanf(\"%d\",&value);\n",
        "   for(i=size-1;i>=pos-1;i--)\n",
        "      s[i+1]=s[i];\n",
        "   s[pos-1]= value;\n",
        "   printf(\"final array after inserting the value is\\n\");\n",
        "   for(i=0;i<=size;i++)\n",
        "      printf(\"%d\\n\",s[i]);\n",
        "   return 0;\n",
        "}"
      ],
      "metadata": {
        "colab": {
          "base_uri": "https://localhost:8080/"
        },
        "id": "ZBjW7Y9MGLbv",
        "outputId": "ea48705e-cce8-4295-c3e2-33785f3e0b7d"
      },
      "execution_count": null,
      "outputs": [
        {
          "output_type": "stream",
          "name": "stdout",
          "text": [
            "Overwriting prog3.c\n"
          ]
        }
      ]
    },
    {
      "cell_type": "code",
      "source": [
        "%%script bash\n",
        "gcc prog3.c -std=c99 -o prog3"
      ],
      "metadata": {
        "id": "qtg_r9PIGUnb"
      },
      "execution_count": null,
      "outputs": []
    },
    {
      "cell_type": "code",
      "source": [
        "!./prog3"
      ],
      "metadata": {
        "colab": {
          "base_uri": "https://localhost:8080/"
        },
        "id": "bBw9LTEeGYoo",
        "outputId": "cbbc3d4b-c9ad-4565-e9a5-1d3c1ff2accd"
      },
      "execution_count": null,
      "outputs": [
        {
          "output_type": "stream",
          "name": "stdout",
          "text": [
            "enter no of elements in array6\n",
            "enter 6 elements are:\n",
            "1\n",
            "2\n",
            "3\n",
            "4\n",
            "5\n",
            "6\n",
            "enter the position where you want to insert the element:7\n",
            "enter the value into that poition:4\n",
            "final array after inserting the value is\n",
            "1\n",
            "2\n",
            "3\n",
            "4\n",
            "5\n",
            "6\n",
            "4\n"
          ]
        }
      ]
    },
    {
      "cell_type": "markdown",
      "source": [
        "PROGRAM 8\n"
      ],
      "metadata": {
        "id": "FqY59EykIP42"
      }
    },
    {
      "cell_type": "code",
      "source": [
        "%%writefile prog4.c\n",
        "#include <stdio.h>\n",
        "\n",
        "int main()\n",
        "{\n",
        "    int array[100], position, c, n;\n",
        "    \n",
        "    printf(\"Enter number of elements in array\\n\");\n",
        "    scanf(\"%d\", &n);\n",
        "    \n",
        "    printf(\"Enter %d elements\\n\", n);\n",
        "    \n",
        "    for ( c = 0 ; c < n ; c++ )\n",
        "    scanf(\"%d\", &array[c]);\n",
        "    \n",
        "    printf(\"Enter the location where you wish to delete element\\n\");\n",
        "    scanf(\"%d\", &position);\n",
        "    \n",
        "    if ( position >= n+1 )    \n",
        "    printf(\"Deletion not possible.\\n\");\n",
        "    \n",
        "    else\n",
        "    {    \n",
        "        for ( c = position - 1 ; c < n - 1 ; c++ ) \n",
        "        array[c] = array[c+1];        \n",
        "        \n",
        "        printf(\"Resultant array is\\n\");\n",
        "        \n",
        "        for( c = 0 ; c < n - 1 ; c++ )        \n",
        "        printf(\"%d\\n\", array[c]);        \n",
        "    }    \n",
        "}"
      ],
      "metadata": {
        "colab": {
          "base_uri": "https://localhost:8080/"
        },
        "id": "guSHr1QCITE-",
        "outputId": "146c2ff7-ac37-4cd3-aa85-0621f8713e48"
      },
      "execution_count": null,
      "outputs": [
        {
          "output_type": "stream",
          "name": "stdout",
          "text": [
            "Overwriting prog4.c\n"
          ]
        }
      ]
    },
    {
      "cell_type": "code",
      "source": [
        "%%script bash\n",
        "gcc prog4.c -std=c99 -o prog4"
      ],
      "metadata": {
        "id": "ZWEEp37kIZ6c"
      },
      "execution_count": null,
      "outputs": []
    },
    {
      "cell_type": "code",
      "source": [
        "!./prog4"
      ],
      "metadata": {
        "colab": {
          "base_uri": "https://localhost:8080/"
        },
        "id": "buYY2sZvIr1V",
        "outputId": "a2b97583-da64-4abf-cd3e-a96a2ca4592d"
      },
      "execution_count": null,
      "outputs": [
        {
          "output_type": "stream",
          "name": "stdout",
          "text": [
            "Enter number of elements in array\n",
            "4\n",
            "Enter 4 elements\n",
            "2 3 4 5\n",
            "Enter the location where you wish to delete element\n",
            "2\n",
            "Resultant array is\n",
            "2\n",
            "4\n",
            "5\n"
          ]
        }
      ]
    },
    {
      "cell_type": "code",
      "source": [
        "%%writefile prog5.c\n",
        "#include <stdio.h>\n",
        "\n",
        "int main()\n",
        "{\n",
        "    \n",
        "    int n1,n2,n3;            \n",
        "    printf(\"\\nEnter the size of first array \");\n",
        "    scanf(\"%d\",&n1);\n",
        "    printf(\"\\nEnter the size of second array \");\n",
        "    scanf(\"%d\",&n2);\n",
        "    \n",
        "    n3=n1+n2;\n",
        "    printf(\"\\nEnter the 1st array elements\");\n",
        "    int a[n1],b[n2],c[n3];    \n",
        "    for(int i=0;i<n1;i++)      \n",
        "    {\n",
        "       scanf(\"%d\",&a[i]);\n",
        "       c[i]=a[i];\n",
        "    }\n",
        "    int k=n1;\n",
        "    printf(\"\\nEnter the 2nd array elements\");\n",
        "    for(int i=0;i<n2;i++)      \n",
        "    {\n",
        "        scanf(\"%d\",&b[i]);\n",
        "        c[k]=b[i];\n",
        "        k++;\n",
        "    }\n",
        "    printf(\"\\nThe merged array..\\n\");\n",
        "    for(int i=0;i<n3;i++)\n",
        "    printf(\"%d \",c[i]);        \n",
        "    \n",
        "    \n",
        "  \n",
        "    return 0;   \n",
        "}"
      ],
      "metadata": {
        "colab": {
          "base_uri": "https://localhost:8080/"
        },
        "id": "qX7rRBSwI10r",
        "outputId": "9bf84ac1-216a-4954-ec1a-9f6dfd5af7c5"
      },
      "execution_count": null,
      "outputs": [
        {
          "output_type": "stream",
          "name": "stdout",
          "text": [
            "Overwriting prog5.c\n"
          ]
        }
      ]
    },
    {
      "cell_type": "code",
      "source": [
        "%%script bash\n",
        "gcc prog5.c -std=c99 -o prog5"
      ],
      "metadata": {
        "id": "IbigtVCxKp_t"
      },
      "execution_count": null,
      "outputs": []
    },
    {
      "cell_type": "code",
      "source": [
        "!./prog5"
      ],
      "metadata": {
        "colab": {
          "base_uri": "https://localhost:8080/"
        },
        "id": "fEpS_7P7Kufi",
        "outputId": "d4459dd1-1872-4031-9ccc-1bfcf46a2db3"
      },
      "execution_count": null,
      "outputs": [
        {
          "output_type": "stream",
          "name": "stdout",
          "text": [
            "\n",
            "Enter the size of first array 5\n",
            "\n",
            "Enter the size of second array 5\n",
            "\n",
            "Enter the sorted array elements1 2 3 4 5\n",
            "\n",
            "Enter the array elements1 2 3 4 5\n",
            "\n",
            "The merged array..\n",
            "1 2 3 4 5 1 2 3 4 5 "
          ]
        }
      ]
    },
    {
      "cell_type": "markdown",
      "source": [
        "PROGRAM 10"
      ],
      "metadata": {
        "id": "5L_rAGJ51WSc"
      }
    },
    {
      "cell_type": "code",
      "source": [
        ""
      ],
      "metadata": {
        "id": "lgtLitxc1VKt"
      },
      "execution_count": null,
      "outputs": []
    }
  ]
}